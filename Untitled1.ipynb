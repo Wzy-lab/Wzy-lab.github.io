{
  "nbformat": 4,
  "nbformat_minor": 0,
  "metadata": {
    "colab": {
      "name": "Untitled1.ipynb",
      "provenance": [],
      "authorship_tag": "ABX9TyPIpYKIOX/DUgFGrjLsc5FU",
      "include_colab_link": true
    },
    "kernelspec": {
      "name": "python3",
      "display_name": "Python 3"
    },
    "accelerator": "GPU"
  },
  "cells": [
    {
      "cell_type": "markdown",
      "metadata": {
        "id": "view-in-github",
        "colab_type": "text"
      },
      "source": [
        "<a href=\"https://colab.research.google.com/github/Wzy-lab/Wzy-lab.github.io/blob/master/Untitled1.ipynb\" target=\"_parent\"><img src=\"https://colab.research.google.com/assets/colab-badge.svg\" alt=\"Open In Colab\"/></a>"
      ]
    },
    {
      "cell_type": "code",
      "metadata": {
        "id": "Xh509FaE_Kd0",
        "colab_type": "code",
        "colab": {
          "base_uri": "https://localhost:8080/",
          "height": 1000
        },
        "outputId": "19477314-17cb-4dde-8b26-f64cc1c29969"
      },
      "source": [
        "import tensorflow as tf\n",
        "import numpy as np\n",
        "import os\n",
        "import matplotlib.pyplot as plt\n",
        "import tensorflow_core.examples.tutorials.mnist.input_data as input_data\n",
        "mnist=input_data.read_data_sets(r\"E:/log\",one_hot=True)\n",
        "x=tf.placeholder(tf.float32,[None,784],name='X')\n",
        "y=tf.placeholder(tf.float32,[None,10],name='Y')\n",
        "#构建隐藏层\n",
        "H1_NN=256#隐藏层神经元数量\n",
        "w1=tf.Variable(tf.random_normal([784,H1_NN]),name='w1')\n",
        "b1=tf.Variable(tf.zeros([H1_NN]),name='b1')\n",
        "y1=tf.nn.relu(tf.matmul(x,w1)+b1)\n",
        "#构建输出层\n",
        "w2=tf.Variable(tf.random_normal([H1_NN,10]),name='w2')\n",
        "b2=tf.Variable(tf.zeros([10]),name='b2')\n",
        "forward=tf.matmul(y1,w2)+b2\n",
        "pred=tf.nn.softmax(forward)\n",
        "#定义交叉熵损失函数\n",
        "loss_function=tf.reduce_mean(tf.nn.softmax_cross_entropy_with_logits(logits=forward,labels=y))\n",
        "#设置训练参数\n",
        "train_epochs=40#训练轮数\n",
        "batch_size=50#单次训练样本数\n",
        "total_batch=int(mnist.train.num_examples/batch_size)#一轮训多少批次\n",
        "display_step=1#显示粒度\n",
        "learning_rate=0.01#学习率\n",
        "\n",
        "save_step=5\n",
        "ckpt_dir=r\"E:\\log\\web\"\n",
        "if not  os.path.exists(ckpt_dir):\n",
        "    os.makedirs(ckpt_dir)\n",
        "#定义梯度下降优化器\n",
        "optimizer=tf.train.AdamOptimizer(learning_rate).minimize(loss_function)\n",
        "correct_prediction=tf.equal(tf.arg_max(pred,1),tf.arg_max(y,1))\n",
        "accuracy=tf.reduce_mean(tf.cast(correct_prediction,tf.float32))\n",
        "\n",
        "saver=tf.train.Saver()\n",
        "from time import time\n",
        "starttime=time()\n",
        "sess=tf.Session()\n",
        "init=tf.global_variables_initializer()\n",
        "sess.run(init)\n",
        "for epoch in range(train_epochs):\n",
        "    for batch in range(total_batch):\n",
        "        xs,ys=mnist.train.next_batch(batch_size)#读取批次训练数据\n",
        "        sess.run(optimizer,feed_dict={x:xs,y:ys})#执行批次训练\n",
        "        #total_batch个批次训练完成后，使用验证数据计算误差与准确率\n",
        "    loss,acc=sess.run([loss_function,accuracy],feed_dict={x:mnist.validation.images,y:mnist.validation.labels})\n",
        "    if (epoch + 1) % display_step == 0:\n",
        "        print('训练次数：', '%02d' % (epoch + 1), '损失值=', \"{:.9f}\".format(loss), '准确度=', \"{:.4f}\".format((acc)))\n",
        "    if (epoch + 1) % save_step == 0:\n",
        "        saver.save(sess,os.path.join(ckpt_dir,'mnist_h256_model_{:06d}.ckpt'.format(epoch+1)))#存储模型\n",
        "        print('mnist_h256_model_{:06d}.ckpt saved'.format(epoch+1))\n",
        "saver.save(sess,os.path.join(ckpt_dir,'mnist_h256_model.ckpt'))\n",
        "print(\"模型保存！\")\n",
        "#显示运行总时间\n",
        "duration=time()-starttime\n",
        "print(\"训练时间：\",\"{:.2f}\".format(duration))\n"
      ],
      "execution_count": 1,
      "outputs": [
        {
          "output_type": "display_data",
          "data": {
            "text/html": [
              "<p style=\"color: red;\">\n",
              "The default version of TensorFlow in Colab will soon switch to TensorFlow 2.x.<br>\n",
              "We recommend you <a href=\"https://www.tensorflow.org/guide/migrate\" target=\"_blank\">upgrade</a> now \n",
              "or ensure your notebook will continue to use TensorFlow 1.x via the <code>%tensorflow_version 1.x</code> magic:\n",
              "<a href=\"https://colab.research.google.com/notebooks/tensorflow_version.ipynb\" target=\"_blank\">more info</a>.</p>\n"
            ],
            "text/plain": [
              "<IPython.core.display.HTML object>"
            ]
          },
          "metadata": {
            "tags": []
          }
        },
        {
          "output_type": "stream",
          "text": [
            "WARNING:tensorflow:From <ipython-input-1-e36fc4640714>:6: read_data_sets (from tensorflow.contrib.learn.python.learn.datasets.mnist) is deprecated and will be removed in a future version.\n",
            "Instructions for updating:\n",
            "Please use alternatives such as official/mnist/dataset.py from tensorflow/models.\n",
            "WARNING:tensorflow:From /usr/local/lib/python3.6/dist-packages/tensorflow_core/contrib/learn/python/learn/datasets/mnist.py:260: maybe_download (from tensorflow.contrib.learn.python.learn.datasets.base) is deprecated and will be removed in a future version.\n",
            "Instructions for updating:\n",
            "Please write your own downloading logic.\n",
            "WARNING:tensorflow:From /usr/local/lib/python3.6/dist-packages/tensorflow_core/contrib/learn/python/learn/datasets/base.py:252: _internal_retry.<locals>.wrap.<locals>.wrapped_fn (from tensorflow.contrib.learn.python.learn.datasets.base) is deprecated and will be removed in a future version.\n",
            "Instructions for updating:\n",
            "Please use urllib or similar directly.\n",
            "Successfully downloaded train-images-idx3-ubyte.gz 9912422 bytes.\n",
            "WARNING:tensorflow:From /usr/local/lib/python3.6/dist-packages/tensorflow_core/contrib/learn/python/learn/datasets/mnist.py:262: extract_images (from tensorflow.contrib.learn.python.learn.datasets.mnist) is deprecated and will be removed in a future version.\n",
            "Instructions for updating:\n",
            "Please use tf.data to implement this functionality.\n",
            "Extracting E:/log/train-images-idx3-ubyte.gz\n",
            "Successfully downloaded train-labels-idx1-ubyte.gz 28881 bytes.\n",
            "WARNING:tensorflow:From /usr/local/lib/python3.6/dist-packages/tensorflow_core/contrib/learn/python/learn/datasets/mnist.py:267: extract_labels (from tensorflow.contrib.learn.python.learn.datasets.mnist) is deprecated and will be removed in a future version.\n",
            "Instructions for updating:\n",
            "Please use tf.data to implement this functionality.\n",
            "Extracting E:/log/train-labels-idx1-ubyte.gz\n",
            "WARNING:tensorflow:From /usr/local/lib/python3.6/dist-packages/tensorflow_core/contrib/learn/python/learn/datasets/mnist.py:110: dense_to_one_hot (from tensorflow.contrib.learn.python.learn.datasets.mnist) is deprecated and will be removed in a future version.\n",
            "Instructions for updating:\n",
            "Please use tf.one_hot on tensors.\n",
            "Successfully downloaded t10k-images-idx3-ubyte.gz 1648877 bytes.\n",
            "Extracting E:/log/t10k-images-idx3-ubyte.gz\n",
            "Successfully downloaded t10k-labels-idx1-ubyte.gz 4542 bytes.\n",
            "Extracting E:/log/t10k-labels-idx1-ubyte.gz\n",
            "WARNING:tensorflow:From /usr/local/lib/python3.6/dist-packages/tensorflow_core/contrib/learn/python/learn/datasets/mnist.py:290: DataSet.__init__ (from tensorflow.contrib.learn.python.learn.datasets.mnist) is deprecated and will be removed in a future version.\n",
            "Instructions for updating:\n",
            "Please use alternatives such as official/mnist/dataset.py from tensorflow/models.\n",
            "WARNING:tensorflow:From <ipython-input-1-e36fc4640714>:20: softmax_cross_entropy_with_logits (from tensorflow.python.ops.nn_ops) is deprecated and will be removed in a future version.\n",
            "Instructions for updating:\n",
            "\n",
            "Future major versions of TensorFlow will allow gradients to flow\n",
            "into the labels input on backprop by default.\n",
            "\n",
            "See `tf.nn.softmax_cross_entropy_with_logits_v2`.\n",
            "\n",
            "训练次数： 01 损失值= 1.156502962 准确度= 0.9282\n",
            "训练次数： 02 损失值= 0.660318375 准确度= 0.9450\n",
            "训练次数： 03 损失值= 0.522253394 准确度= 0.9514\n",
            "训练次数： 04 损失值= 0.402647704 准确度= 0.9568\n",
            "训练次数： 05 损失值= 0.405423343 准确度= 0.9584\n",
            "mnist_h256_model_000005.ckpt saved\n",
            "训练次数： 06 损失值= 0.386893868 准确度= 0.9522\n",
            "训练次数： 07 损失值= 0.370475203 准确度= 0.9598\n",
            "训练次数： 08 损失值= 0.304340184 准确度= 0.9620\n",
            "训练次数： 09 损失值= 0.308243275 准确度= 0.9660\n",
            "训练次数： 10 损失值= 0.366750538 准确度= 0.9616\n",
            "mnist_h256_model_000010.ckpt saved\n",
            "训练次数： 11 损失值= 0.399860829 准确度= 0.9626\n",
            "训练次数： 12 损失值= 0.333786964 准确度= 0.9672\n",
            "训练次数： 13 损失值= 0.339828581 准确度= 0.9646\n",
            "训练次数： 14 损失值= 0.416026562 准确度= 0.9624\n",
            "训练次数： 15 损失值= 0.409192324 准确度= 0.9662\n",
            "mnist_h256_model_000015.ckpt saved\n",
            "训练次数： 16 损失值= 0.366683960 准确度= 0.9688\n",
            "训练次数： 17 损失值= 0.429337114 准确度= 0.9686\n",
            "训练次数： 18 损失值= 0.424705356 准确度= 0.9704\n",
            "训练次数： 19 损失值= 0.496463120 准确度= 0.9706\n",
            "训练次数： 20 损失值= 0.480965912 准确度= 0.9704\n",
            "mnist_h256_model_000020.ckpt saved\n",
            "训练次数： 21 损失值= 0.473717690 准确度= 0.9718\n",
            "训练次数： 22 损失值= 0.575852275 准确度= 0.9706\n",
            "训练次数： 23 损失值= 0.485449314 准确度= 0.9728\n",
            "训练次数： 24 损失值= 0.502669454 准确度= 0.9734\n",
            "训练次数： 25 损失值= 0.584524035 准确度= 0.9722\n",
            "mnist_h256_model_000025.ckpt saved\n",
            "训练次数： 26 损失值= 0.447174519 准确度= 0.9750\n",
            "训练次数： 27 损失值= 0.539818645 准确度= 0.9734\n",
            "训练次数： 28 损失值= 0.630384624 准确度= 0.9730\n",
            "训练次数： 29 损失值= 0.487798691 准确度= 0.9752\n",
            "训练次数： 30 损失值= 0.760854781 准确度= 0.9714\n",
            "WARNING:tensorflow:From /usr/local/lib/python3.6/dist-packages/tensorflow_core/python/training/saver.py:963: remove_checkpoint (from tensorflow.python.training.checkpoint_management) is deprecated and will be removed in a future version.\n",
            "Instructions for updating:\n",
            "Use standard file APIs to delete files with this prefix.\n",
            "mnist_h256_model_000030.ckpt saved\n",
            "训练次数： 31 损失值= 0.604173720 准确度= 0.9744\n",
            "训练次数： 32 损失值= 0.547325969 准确度= 0.9776\n",
            "训练次数： 33 损失值= 0.641070426 准确度= 0.9732\n",
            "训练次数： 34 损失值= 0.761323988 准确度= 0.9742\n",
            "训练次数： 35 损失值= 0.865994751 准确度= 0.9744\n",
            "mnist_h256_model_000035.ckpt saved\n",
            "训练次数： 36 损失值= 0.737556934 准确度= 0.9768\n",
            "训练次数： 37 损失值= 0.803563833 准确度= 0.9732\n",
            "训练次数： 38 损失值= 0.830698073 准确度= 0.9736\n",
            "训练次数： 39 损失值= 0.787392676 准确度= 0.9744\n",
            "训练次数： 40 损失值= 0.887041330 准确度= 0.9722\n",
            "mnist_h256_model_000040.ckpt saved\n",
            "模型保存！\n",
            "训练时间： 82.23\n"
          ],
          "name": "stdout"
        }
      ]
    },
    {
      "cell_type": "code",
      "metadata": {
        "id": "a3RvWwzV_gMu",
        "colab_type": "code",
        "colab": {}
      },
      "source": [
        ""
      ],
      "execution_count": 0,
      "outputs": []
    }
  ]
}